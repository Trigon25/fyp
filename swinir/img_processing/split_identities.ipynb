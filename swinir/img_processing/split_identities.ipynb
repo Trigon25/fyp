{
 "cells": [
  {
   "cell_type": "code",
   "execution_count": 23,
   "metadata": {},
   "outputs": [],
   "source": [
    "import os\n",
    "import random\n",
    "\n",
    "# Set the seed for reproducibility\n",
    "random.seed(42)"
   ]
  },
  {
   "cell_type": "code",
   "execution_count": 24,
   "metadata": {},
   "outputs": [],
   "source": [
    "# Read the file\n",
    "with open('identity_CelebA.txt', 'r') as file:\n",
    "    lines = file.readlines()\n",
    "\n",
    "# Create a dictionary to store the images for each identity\n",
    "identity_dict = {}\n",
    "for line in lines:\n",
    "    image, identity = line.strip().split()\n",
    "    if identity not in identity_dict:\n",
    "        identity_dict[identity] = []\n",
    "    identity_dict[identity].append(image)"
   ]
  },
  {
   "cell_type": "code",
   "execution_count": 25,
   "metadata": {},
   "outputs": [],
   "source": [
    "# Sort the identities by the number of images\n",
    "identity_list = list(identity_dict.items())\n",
    "identity_list.sort(key=lambda x: len(x[1]), reverse=True)\n",
    "\n",
    "# Get the top 4000 identities\n",
    "num_identities = 4000\n",
    "identity_list = identity_list[:num_identities]\n",
    "\n",
    "# Split the identities into training, validation, and test sets\n",
    "random.shuffle(identity_list)\n",
    "num_train = 3000\n",
    "num_val = 500\n",
    "num_test = 500\n",
    "\n",
    "train_identities = identity_list[:num_train]\n",
    "val_identities = identity_list[num_train:num_train+num_val]\n",
    "test_identities = identity_list[num_train+num_val:]"
   ]
  },
  {
   "cell_type": "code",
   "execution_count": 27,
   "metadata": {},
   "outputs": [],
   "source": [
    "# Output to identity_train.txt\n",
    "with open('split_ids/identity_train.txt', 'w') as file:\n",
    "    for identity, images in train_identities:\n",
    "        for image in images:\n",
    "            file.write(f'{image} {identity}\\n')\n",
    "\n",
    "# Output to identity_val.txt\n",
    "with open('split_ids/identity_val.txt', 'w') as file:\n",
    "    for identity, images in val_identities:\n",
    "        for image in images:\n",
    "            file.write(f'{image} {identity}\\n')\n",
    "            \n",
    "# Output to identity_test.txt\n",
    "with open('split_ids/identity_test.txt', 'w') as file:\n",
    "    for identity, images in test_identities:\n",
    "        for image in images:\n",
    "            file.write(f'{image} {identity}\\n')"
   ]
  }
 ],
 "metadata": {
  "kernelspec": {
   "display_name": "venv",
   "language": "python",
   "name": "python3"
  },
  "language_info": {
   "codemirror_mode": {
    "name": "ipython",
    "version": 3
   },
   "file_extension": ".py",
   "mimetype": "text/x-python",
   "name": "python",
   "nbconvert_exporter": "python",
   "pygments_lexer": "ipython3",
   "version": "3.11.9"
  }
 },
 "nbformat": 4,
 "nbformat_minor": 2
}
