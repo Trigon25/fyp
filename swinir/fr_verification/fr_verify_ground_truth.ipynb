{
 "cells": [
  {
   "cell_type": "code",
   "execution_count": 22,
   "metadata": {},
   "outputs": [],
   "source": [
    "import os\n",
    "import shutil"
   ]
  },
  {
   "cell_type": "code",
   "execution_count": 23,
   "metadata": {},
   "outputs": [],
   "source": [
    "# Step 1: Read the file and create a dictionary mapping each identity to its images\n",
    "with open('identity_CelebA.txt', 'r') as file:\n",
    "    lines = file.readlines()\n",
    "\n",
    "identity_dict = {}\n",
    "for line in lines:\n",
    "    image, identity = line.strip().split()\n",
    "    identity_dict.setdefault(identity, []).append(image)\n",
    "\n",
    "# Step 2: Filter identities that have at least 11 images\n",
    "filtered_identities = {ident: imgs for ident, imgs in identity_dict.items() if len(imgs) >= 11}\n",
    "\n",
    "# Step 3: Select the first 10 identities (using the insertion order)\n",
    "selected_identities = list(filtered_identities.keys())[:10]\n",
    "\n",
    "# Define the source directory where the images are stored\n",
    "src_dir = os.path.join(\"..\", \"datasets\", \"celeba_HR_resized_128\")\n",
    "lr_dir = os.path.join(\"..\", \"datasets\", \"celeba_LR_factor_0.25\")\n",
    "\n",
    "parent_dir = os.path.join(os.getcwd(), \"selected_identities\")\n",
    "os.makedirs(parent_dir, exist_ok=True)"
   ]
  },
  {
   "cell_type": "code",
   "execution_count": 24,
   "metadata": {},
   "outputs": [],
   "source": [
    "# Step 4: For each selected identity, create a new nested directory in the current working directory and copy the matching images\n",
    "for identity in selected_identities:\n",
    "    dest_dir = os.path.join(parent_dir, identity)\n",
    "    if not os.path.exists(dest_dir):\n",
    "        os.makedirs(dest_dir)\n",
    "    else:\n",
    "        for filename in os.listdir(dest_dir):\n",
    "            file_path = os.path.join(dest_dir, filename)\n",
    "            if os.path.isfile(file_path) or os.path.islink(file_path):\n",
    "                os.unlink(file_path)\n",
    "            elif os.path.isdir(file_path):\n",
    "                shutil.rmtree(file_path)\n",
    "\n",
    "    \n",
    "    count = 0\n",
    "    for image in filtered_identities[identity]:\n",
    "        src_path = os.path.join(src_dir, image)\n",
    "        if os.path.exists(src_path) and count == 10:\n",
    "            lr_path = os.path.join(lr_dir, image)\n",
    "            if os.path.exists(lr_path):\n",
    "                lr_dest_dir = os.path.join(os.getcwd(), \"query\")\n",
    "                os.makedirs(lr_dest_dir, exist_ok=True)\n",
    "                shutil.copy(lr_path, lr_dest_dir)\n",
    "\n",
    "                hr_dest_dir = os.path.join(os.getcwd(), \"truth\")\n",
    "                os.makedirs(hr_dest_dir, exist_ok=True)\n",
    "                shutil.copy(src_path, hr_dest_dir)\n",
    "            \n",
    "            break\n",
    "\n",
    "        if os.path.exists(src_path):\n",
    "            shutil.copy(src_path, dest_dir)\n",
    "            count += 1\n",
    "        else:\n",
    "            print(f\"Warning: {src_path} does not exist.\")"
   ]
  },
  {
   "cell_type": "code",
   "execution_count": null,
   "metadata": {},
   "outputs": [],
   "source": []
  },
  {
   "cell_type": "code",
   "execution_count": 25,
   "metadata": {},
   "outputs": [],
   "source": [
    "# # Read the file\n",
    "# with open('identity_CelebA.txt', 'r') as file:\n",
    "#     lines = file.readlines()\n",
    "\n",
    "# # Create a dictionary to store the images for each identity\n",
    "# identity_dict = {}\n",
    "# for line in lines:\n",
    "#     image, identity = line.strip().split()\n",
    "#     if identity not in identity_dict:\n",
    "#         identity_dict[identity] = []\n",
    "#     identity_dict[identity].append(image)\n",
    "\n",
    "# # Sort the identities by the number of images\n",
    "# identity_list = list(identity_dict.items())\n",
    "# identity_list.sort(key=lambda x: len(x[1]), reverse=True)\n",
    "\n",
    "# num_identities = 10\n",
    "# identity_list = identity_list[:num_identities]"
   ]
  },
  {
   "cell_type": "code",
   "execution_count": 26,
   "metadata": {},
   "outputs": [],
   "source": [
    "# dataset stored in ../datasets/celeba_HR_resized_128\n"
   ]
  }
 ],
 "metadata": {
  "kernelspec": {
   "display_name": "venv",
   "language": "python",
   "name": "python3"
  },
  "language_info": {
   "codemirror_mode": {
    "name": "ipython",
    "version": 3
   },
   "file_extension": ".py",
   "mimetype": "text/x-python",
   "name": "python",
   "nbconvert_exporter": "python",
   "pygments_lexer": "ipython3",
   "version": "3.11.9"
  }
 },
 "nbformat": 4,
 "nbformat_minor": 2
}
