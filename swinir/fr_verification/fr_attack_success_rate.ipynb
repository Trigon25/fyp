{
 "cells": [
  {
   "cell_type": "code",
   "execution_count": 1,
   "metadata": {},
   "outputs": [],
   "source": [
    "import os\n",
    "import shutil"
   ]
  },
  {
   "cell_type": "code",
   "execution_count": 5,
   "metadata": {},
   "outputs": [],
   "source": [
    "# Step 1: Read the file and create a dictionary mapping each identity to its images\n",
    "with open('identity_CelebA.txt', 'r') as file:\n",
    "    lines = file.readlines()\n",
    "\n",
    "identity_dict = {}\n",
    "for line in lines:\n",
    "    image, identity = line.strip().split()\n",
    "    identity_dict.setdefault(identity, []).append(image)\n",
    "\n",
    "# Step 2: Filter identities that have at least 11 images\n",
    "filtered_identities = {ident: imgs for ident, imgs in identity_dict.items() if len(imgs) >= 4}\n",
    "\n",
    "# Step 3: Select the first 1000 identities (using the insertion order)\n",
    "selected_identities = list(filtered_identities.keys())[:1000]\n",
    "\n",
    "# Define the source directory where the images are stored\n",
    "src_dir = os.path.join(\"..\", \"datasets\", \"celeba_HR_resized_128\")\n",
    "lr_dir = os.path.join(\"..\", \"datasets\", \"celeba_LR_factor_0.25\")\n",
    "\n",
    "parent_dir = os.path.join(os.getcwd(), \"positive_pairs\")\n",
    "os.makedirs(parent_dir, exist_ok=True)"
   ]
  },
  {
   "cell_type": "code",
   "execution_count": 6,
   "metadata": {},
   "outputs": [],
   "source": [
    "# for each identity, select 2 images and copy them to a subdirectory within the parent directory\n",
    "# this means that you should take the same two images from both the src_dir and lr_dir, as they correspond to the same image\n",
    "# total images should be 4 in each subdirectory, 2 HR and 2 LR\n",
    "# do it within the same loop for both HR and LR\n",
    "for identity in selected_identities:\n",
    "    dest_dir = os.path.join(parent_dir, identity)\n",
    "    if not os.path.exists(dest_dir):\n",
    "        os.makedirs(dest_dir)\n",
    "    else:\n",
    "        for filename in os.listdir(dest_dir):\n",
    "            file_path = os.path.join(dest_dir, filename)\n",
    "            if os.path.isfile(file_path) or os.path.islink(file_path):\n",
    "                os.unlink(file_path)\n",
    "            elif os.path.isdir(file_path):\n",
    "                shutil.rmtree(file_path)\n",
    "\n",
    "    count = 0\n",
    "    for image in filtered_identities[identity]:\n",
    "        src_path = os.path.join(src_dir, image)\n",
    "        lr_path = os.path.join(lr_dir, image)\n",
    "        if os.path.exists(src_path) and os.path.exists(lr_path):\n",
    "            if count == 2:\n",
    "                break\n",
    "            # rename the HR image\n",
    "            dest_path = os.path.join(dest_dir, f\"HR_{image}\")\n",
    "            shutil.copy(src_path, dest_path)\n",
    "            \n",
    "            shutil.copy(lr_path, dest_dir)\n",
    "            count += 1\n",
    "        else:\n",
    "            print(f\"Image {image} not found\")"
   ]
  }
 ],
 "metadata": {
  "kernelspec": {
   "display_name": "venv",
   "language": "python",
   "name": "python3"
  },
  "language_info": {
   "codemirror_mode": {
    "name": "ipython",
    "version": 3
   },
   "file_extension": ".py",
   "mimetype": "text/x-python",
   "name": "python",
   "nbconvert_exporter": "python",
   "pygments_lexer": "ipython3",
   "version": "3.11.9"
  }
 },
 "nbformat": 4,
 "nbformat_minor": 2
}
